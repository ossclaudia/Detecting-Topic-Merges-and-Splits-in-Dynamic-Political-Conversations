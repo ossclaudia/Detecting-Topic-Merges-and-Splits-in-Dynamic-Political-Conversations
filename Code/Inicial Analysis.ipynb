{
 "cells": [
  {
   "cell_type": "markdown",
   "id": "1e74d527",
   "metadata": {},
   "source": [
    "# Detecting Topic Merges and Splits in Dynamic Political Conversations\n",
    "\n",
    "### Cláudia Oliveira "
   ]
  },
  {
   "cell_type": "markdown",
   "id": "a4a841ca",
   "metadata": {},
   "source": [
    "The objective of this code is to get a first look at the data and to gather all the datasets containing the tweets posted by each member of the 119th Congress in to one single dataset "
   ]
  },
  {
   "cell_type": "markdown",
   "id": "72b907ad",
   "metadata": {},
   "source": [
    "Importing the needed packages:"
   ]
  },
  {
   "cell_type": "code",
   "execution_count": 2,
   "id": "d85e7a17",
   "metadata": {},
   "outputs": [],
   "source": [
    "import pandas as pd\n",
    "import matplotlib.pyplot as plt"
   ]
  },
  {
   "cell_type": "markdown",
   "id": "96bb0a9f",
   "metadata": {},
   "source": [
    "Importing the dataset with congress members information"
   ]
  },
  {
   "cell_type": "code",
   "execution_count": 3,
   "id": "f772cc9c",
   "metadata": {},
   "outputs": [
    {
     "data": {
      "text/html": [
       "<div>\n",
       "<style scoped>\n",
       "    .dataframe tbody tr th:only-of-type {\n",
       "        vertical-align: middle;\n",
       "    }\n",
       "\n",
       "    .dataframe tbody tr th {\n",
       "        vertical-align: top;\n",
       "    }\n",
       "\n",
       "    .dataframe thead th {\n",
       "        text-align: right;\n",
       "    }\n",
       "</style>\n",
       "<table border=\"1\" class=\"dataframe\">\n",
       "  <thead>\n",
       "    <tr style=\"text-align: right;\">\n",
       "      <th></th>\n",
       "      <th>Name</th>\n",
       "      <th>Role</th>\n",
       "      <th>State</th>\n",
       "      <th>District</th>\n",
       "      <th>Party</th>\n",
       "      <th>Served</th>\n",
       "      <th>Active On X</th>\n",
       "      <th>Account</th>\n",
       "    </tr>\n",
       "  </thead>\n",
       "  <tbody>\n",
       "    <tr>\n",
       "      <th>0</th>\n",
       "      <td>Adams, Alma S.</td>\n",
       "      <td>Representative</td>\n",
       "      <td>North Carolina</td>\n",
       "      <td>12</td>\n",
       "      <td>Democratic</td>\n",
       "      <td>House: 2014-Present</td>\n",
       "      <td>Yes</td>\n",
       "      <td>\"@RepAdams\"</td>\n",
       "    </tr>\n",
       "    <tr>\n",
       "      <th>1</th>\n",
       "      <td>Aderholt, Robert B.</td>\n",
       "      <td>Representative</td>\n",
       "      <td>Alabama</td>\n",
       "      <td>4</td>\n",
       "      <td>Republican</td>\n",
       "      <td>House: 1997-Present</td>\n",
       "      <td>Yes</td>\n",
       "      <td>\"@Robert_Aderholt\"</td>\n",
       "    </tr>\n",
       "    <tr>\n",
       "      <th>2</th>\n",
       "      <td>Aguilar, Pete</td>\n",
       "      <td>Representative</td>\n",
       "      <td>California</td>\n",
       "      <td>33</td>\n",
       "      <td>Democratic</td>\n",
       "      <td>House: 2015-Present</td>\n",
       "      <td>Yes</td>\n",
       "      <td>\"@RepPeteAguilar\"</td>\n",
       "    </tr>\n",
       "    <tr>\n",
       "      <th>3</th>\n",
       "      <td>Alford, Mark</td>\n",
       "      <td>Representative</td>\n",
       "      <td>Missouri</td>\n",
       "      <td>4</td>\n",
       "      <td>Republican</td>\n",
       "      <td>House: 2023-Present</td>\n",
       "      <td>Yes</td>\n",
       "      <td>\"@RepMarkAlford\"</td>\n",
       "    </tr>\n",
       "    <tr>\n",
       "      <th>4</th>\n",
       "      <td>Allen, Rick W.</td>\n",
       "      <td>Representative</td>\n",
       "      <td>Georgia</td>\n",
       "      <td>12</td>\n",
       "      <td>Republican</td>\n",
       "      <td>House: 2015-Present</td>\n",
       "      <td>Yes</td>\n",
       "      <td>\"@RepRickAllen\"</td>\n",
       "    </tr>\n",
       "  </tbody>\n",
       "</table>\n",
       "</div>"
      ],
      "text/plain": [
       "                  Name            Role           State District       Party  \\\n",
       "0       Adams, Alma S.  Representative  North Carolina       12  Democratic   \n",
       "1  Aderholt, Robert B.  Representative         Alabama        4  Republican   \n",
       "2        Aguilar, Pete  Representative      California       33  Democratic   \n",
       "3         Alford, Mark  Representative        Missouri        4  Republican   \n",
       "4       Allen, Rick W.  Representative         Georgia       12  Republican   \n",
       "\n",
       "                Served Active On X             Account  \n",
       "0  House: 2014-Present         Yes         \"@RepAdams\"  \n",
       "1  House: 1997-Present         Yes  \"@Robert_Aderholt\"  \n",
       "2  House: 2015-Present         Yes   \"@RepPeteAguilar\"  \n",
       "3  House: 2023-Present         Yes    \"@RepMarkAlford\"  \n",
       "4  House: 2015-Present         Yes     \"@RepRickAllen\"  "
      ]
     },
     "execution_count": 3,
     "metadata": {},
     "output_type": "execute_result"
    }
   ],
   "source": [
    "df = pd.read_excel(\"datasets/Twitters_19thCongressMembers.xlsx\")\n",
    "df = df.iloc[:, :8]\n",
    "df.head(5)"
   ]
  },
  {
   "cell_type": "markdown",
   "id": "87e5b99f",
   "metadata": {},
   "source": [
    "#### Now, I'll be answering the following questions about the congress members:\n",
    "\n",
    "1) How many are democrats, republicans and independents?\n",
    "\n",
    "2) How many are active on X?"
   ]
  },
  {
   "cell_type": "markdown",
   "id": "8d5abf3d",
   "metadata": {},
   "source": [
    "#### 1) How many are democrats, republicans and independents?"
   ]
  },
  {
   "cell_type": "code",
   "execution_count": 4,
   "id": "b950eac4",
   "metadata": {},
   "outputs": [
    {
     "name": "stdout",
     "output_type": "stream",
     "text": [
      "Party\n",
      "Republican     277\n",
      "Democratic     266\n",
      "Independent      2\n",
      "Name: count, dtype: int64\n"
     ]
    },
    {
     "data": {
      "image/png": "[encoded data removed]",
      "text/plain": [
       "<Figure size 400x300 with 1 Axes>"
      ]
     },
     "metadata": {},
     "output_type": "display_data"
    }
   ],
   "source": [
    "party_counts = df[\"Party\"].value_counts()\n",
    "\n",
    "print(party_counts)\n",
    "\n",
    "colors = [\"#ffb6c1\", \"#98fb98\", \"#87ceeb\"] \n",
    "\n",
    "plt.figure(figsize=(4,3))  \n",
    "party_counts.plot(kind=\"bar\", color=colors[:len(party_counts)])\n",
    "plt.title(\"Number of members per party\")\n",
    "plt.xlabel(\"Party\")\n",
    "plt.ylabel(\"Count\")\n",
    "plt.xticks(rotation=0)\n",
    "plt.tight_layout()\n",
    "plt.show()"
   ]
  },
  {
   "cell_type": "markdown",
   "id": "6de55e8e",
   "metadata": {},
   "source": [
    "Only two independents but there is balance between democrats and republicans"
   ]
  },
  {
   "cell_type": "markdown",
   "id": "6eccc550",
   "metadata": {},
   "source": [
    "#### 2) How many are active on X?"
   ]
  },
  {
   "cell_type": "code",
   "execution_count": 5,
   "id": "c0bb0cd5",
   "metadata": {},
   "outputs": [
    {
     "name": "stdout",
     "output_type": "stream",
     "text": [
      "Active On X\n",
      "Yes    544\n",
      "No       1\n",
      "Name: count, dtype: int64\n"
     ]
    }
   ],
   "source": [
    "active = df[\"Active On X\"].value_counts()\n",
    "\n",
    "print(active)"
   ]
  },
  {
   "cell_type": "markdown",
   "id": "cc124480",
   "metadata": {},
   "source": [
    "Only one person doesn't have a professional X account"
   ]
  },
  {
   "cell_type": "markdown",
   "id": "1c33303a",
   "metadata": {},
   "source": [
    "#### Now, I'll will create the main dataset"
   ]
  }
 ],
 "metadata": {
  "kernelspec": {
   "display_name": ".venv (3.11.9)",
   "language": "python",
   "name": "python3"
  },
  "language_info": {
   "codemirror_mode": {
    "name": "ipython",
    "version": 3
   },
   "file_extension": ".py",
   "mimetype": "text/x-python",
   "name": "python",
   "nbconvert_exporter": "python",
   "pygments_lexer": "ipython3",
   "version": "3.11.9"
  }
 },
 "nbformat": 4,
 "nbformat_minor": 5
}
