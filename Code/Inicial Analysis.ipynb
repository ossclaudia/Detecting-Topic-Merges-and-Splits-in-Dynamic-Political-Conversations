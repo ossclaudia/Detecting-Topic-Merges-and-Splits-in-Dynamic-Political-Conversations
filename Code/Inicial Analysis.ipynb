{
 "cells": [
  {
   "cell_type": "markdown",
   "id": "1e74d527",
   "metadata": {},
   "source": [
    "# Detecting Topic Merges and Splits in Dynamic Political Conversations\n",
    "\n",
    "Cláudia Oliveira \n",
    "\n",
    "Supervisor - Prof. Dr. Álvaro Figueira\n",
    "\n",
    "Faculty of Science, University of Porto"
   ]
  },
  {
   "cell_type": "markdown",
   "id": "a4a841ca",
   "metadata": {},
   "source": [
    "The objective of this code is to get a first look at the data and to gather all the datasets containing the tweets posted by each member of the 119th Congress in to one single dataset "
   ]
  },
  {
   "cell_type": "markdown",
   "id": "72b907ad",
   "metadata": {},
   "source": [
    "Importing the needed packages:"
   ]
  },
  {
   "cell_type": "code",
   "execution_count": 21,
   "id": "d85e7a17",
   "metadata": {},
   "outputs": [],
   "source": [
    "import pandas as pd\n",
    "import matplotlib.pyplot as plt\n",
    "import os\n",
    "import re"
   ]
  },
  {
   "cell_type": "markdown",
   "id": "96bb0a9f",
   "metadata": {},
   "source": [
    "Importing the dataset with congress members information"
   ]
  },
  {
   "cell_type": "code",
   "execution_count": 22,
   "id": "f772cc9c",
   "metadata": {},
   "outputs": [
    {
     "data": {
      "text/html": [
       "<div>\n",
       "<style scoped>\n",
       "    .dataframe tbody tr th:only-of-type {\n",
       "        vertical-align: middle;\n",
       "    }\n",
       "\n",
       "    .dataframe tbody tr th {\n",
       "        vertical-align: top;\n",
       "    }\n",
       "\n",
       "    .dataframe thead th {\n",
       "        text-align: right;\n",
       "    }\n",
       "</style>\n",
       "<table border=\"1\" class=\"dataframe\">\n",
       "  <thead>\n",
       "    <tr style=\"text-align: right;\">\n",
       "      <th></th>\n",
       "      <th>Name</th>\n",
       "      <th>Role</th>\n",
       "      <th>State</th>\n",
       "      <th>District</th>\n",
       "      <th>Party</th>\n",
       "      <th>Served</th>\n",
       "      <th>Active On X</th>\n",
       "      <th>Account</th>\n",
       "    </tr>\n",
       "  </thead>\n",
       "  <tbody>\n",
       "    <tr>\n",
       "      <th>0</th>\n",
       "      <td>Adams, Alma S.</td>\n",
       "      <td>Representative</td>\n",
       "      <td>North Carolina</td>\n",
       "      <td>12</td>\n",
       "      <td>Democratic</td>\n",
       "      <td>House: 2014-Present</td>\n",
       "      <td>Yes</td>\n",
       "      <td>\"@RepAdams\"</td>\n",
       "    </tr>\n",
       "    <tr>\n",
       "      <th>1</th>\n",
       "      <td>Aderholt, Robert B.</td>\n",
       "      <td>Representative</td>\n",
       "      <td>Alabama</td>\n",
       "      <td>4</td>\n",
       "      <td>Republican</td>\n",
       "      <td>House: 1997-Present</td>\n",
       "      <td>Yes</td>\n",
       "      <td>\"@Robert_Aderholt\"</td>\n",
       "    </tr>\n",
       "    <tr>\n",
       "      <th>2</th>\n",
       "      <td>Aguilar, Pete</td>\n",
       "      <td>Representative</td>\n",
       "      <td>California</td>\n",
       "      <td>33</td>\n",
       "      <td>Democratic</td>\n",
       "      <td>House: 2015-Present</td>\n",
       "      <td>Yes</td>\n",
       "      <td>\"@RepPeteAguilar\"</td>\n",
       "    </tr>\n",
       "    <tr>\n",
       "      <th>3</th>\n",
       "      <td>Alford, Mark</td>\n",
       "      <td>Representative</td>\n",
       "      <td>Missouri</td>\n",
       "      <td>4</td>\n",
       "      <td>Republican</td>\n",
       "      <td>House: 2023-Present</td>\n",
       "      <td>Yes</td>\n",
       "      <td>\"@RepMarkAlford\"</td>\n",
       "    </tr>\n",
       "    <tr>\n",
       "      <th>4</th>\n",
       "      <td>Allen, Rick W.</td>\n",
       "      <td>Representative</td>\n",
       "      <td>Georgia</td>\n",
       "      <td>12</td>\n",
       "      <td>Republican</td>\n",
       "      <td>House: 2015-Present</td>\n",
       "      <td>Yes</td>\n",
       "      <td>\"@RepRickAllen\"</td>\n",
       "    </tr>\n",
       "  </tbody>\n",
       "</table>\n",
       "</div>"
      ],
      "text/plain": [
       "                  Name            Role           State District       Party  \\\n",
       "0       Adams, Alma S.  Representative  North Carolina       12  Democratic   \n",
       "1  Aderholt, Robert B.  Representative         Alabama        4  Republican   \n",
       "2        Aguilar, Pete  Representative      California       33  Democratic   \n",
       "3         Alford, Mark  Representative        Missouri        4  Republican   \n",
       "4       Allen, Rick W.  Representative         Georgia       12  Republican   \n",
       "\n",
       "                Served Active On X             Account  \n",
       "0  House: 2014-Present         Yes         \"@RepAdams\"  \n",
       "1  House: 1997-Present         Yes  \"@Robert_Aderholt\"  \n",
       "2  House: 2015-Present         Yes   \"@RepPeteAguilar\"  \n",
       "3  House: 2023-Present         Yes    \"@RepMarkAlford\"  \n",
       "4  House: 2015-Present         Yes     \"@RepRickAllen\"  "
      ]
     },
     "execution_count": 22,
     "metadata": {},
     "output_type": "execute_result"
    }
   ],
   "source": [
    "members = pd.read_excel(\"datasets/Twitters_19thCongressMembers.xlsx\")\n",
    "members = members.iloc[:, :8]\n",
    "members.head(5)"
   ]
  },
  {
   "cell_type": "markdown",
   "id": "87e5b99f",
   "metadata": {},
   "source": [
    "#### Now, I'll be answering the following questions about the congress members:\n",
    "\n",
    "1) How many are democrats, republicans and independents?\n",
    "\n",
    "2) How many are active on X?"
   ]
  },
  {
   "cell_type": "markdown",
   "id": "8d5abf3d",
   "metadata": {},
   "source": [
    "#### 1) How many are democrats, republicans and independents?"
   ]
  },
  {
   "cell_type": "code",
   "execution_count": 23,
   "id": "b950eac4",
   "metadata": {},
   "outputs": [
    {
     "name": "stdout",
     "output_type": "stream",
     "text": [
      "Party\n",
      "Republican     277\n",
      "Democratic     266\n",
      "Independent      2\n",
      "Name: count, dtype: int64\n"
     ]
    },
    {
     "data": {
      "image/png": "[encoded data removed]",
      "text/plain": [
       "<Figure size 400x300 with 1 Axes>"
      ]
     },
     "metadata": {},
     "output_type": "display_data"
    }
   ],
   "source": [
    "party_counts = members[\"Party\"].value_counts()\n",
    "\n",
    "print(party_counts)\n",
    "\n",
    "colors = [\"#ffb6c1\", \"#98fb98\", \"#87ceeb\"] \n",
    "\n",
    "plt.figure(figsize=(4,3))  \n",
    "party_counts.plot(kind=\"bar\", color=colors[:len(party_counts)])\n",
    "plt.title(\"Number of members per party\")\n",
    "plt.xlabel(\"Party\")\n",
    "plt.ylabel(\"Count\")\n",
    "plt.xticks(rotation=0)\n",
    "plt.tight_layout()\n",
    "plt.show()"
   ]
  },
  {
   "cell_type": "markdown",
   "id": "6de55e8e",
   "metadata": {},
   "source": [
    "Only two independents but there is balance between democrats and republicans"
   ]
  },
  {
   "cell_type": "markdown",
   "id": "6eccc550",
   "metadata": {},
   "source": [
    "#### 2) How many are active on X?"
   ]
  },
  {
   "cell_type": "code",
   "execution_count": 24,
   "id": "c0bb0cd5",
   "metadata": {},
   "outputs": [
    {
     "name": "stdout",
     "output_type": "stream",
     "text": [
      "Active On X\n",
      "Yes    544\n",
      "No       1\n",
      "Name: count, dtype: int64\n"
     ]
    }
   ],
   "source": [
    "active = members[\"Active On X\"].value_counts()\n",
    "\n",
    "print(active)"
   ]
  },
  {
   "cell_type": "markdown",
   "id": "cc124480",
   "metadata": {},
   "source": [
    "Only one person doesn't have a professional X account"
   ]
  },
  {
   "cell_type": "markdown",
   "id": "1c33303a",
   "metadata": {},
   "source": [
    "#### Now, I'll will create the main dataset"
   ]
  },
  {
   "cell_type": "markdown",
   "id": "946e19e0",
   "metadata": {},
   "source": [
    "First, I'll clean the collumn \"Account\" from members and keep only the members that have an active professional account"
   ]
  },
  {
   "cell_type": "code",
   "execution_count": 25,
   "id": "4670aa28",
   "metadata": {},
   "outputs": [],
   "source": [
    "members[\"Account\"] = members[\"Account\"].str.replace('\"', '', regex=False)\n",
    "members[\"Account\"] = members[\"Account\"].str.replace(\"@\", \"\", regex=False)\n",
    "\n",
    "members_active = members[members[\"Active On X\"] == \"Yes\"].copy()"
   ]
  },
  {
   "cell_type": "markdown",
   "id": "cd3d1bcc",
   "metadata": {},
   "source": [
    "Now, let's gather all the info from all the members "
   ]
  },
  {
   "cell_type": "code",
   "execution_count": 26,
   "id": "2bf28596",
   "metadata": {},
   "outputs": [],
   "source": [
    "tweets_folder = \"datasets/TweetsFromEachMember\"\n",
    "\n",
    "all_dataframes = []\n",
    "\n",
    "for filename in os.listdir(tweets_folder):\n",
    "    if filename.endswith(\".csv\") and filename.startswith(\"TwExportly_\"):\n",
    "        filepath = os.path.join(tweets_folder, filename)\n",
    "\n",
    "        match = re.match(r\"TwExportly_(.*?)_tweets_\", filename)\n",
    "        if not match:\n",
    "            continue\n",
    "        account_name = match.group(1) \n",
    "\n",
    "        member_info = members_active[members_active[\"Account\"] == account_name]\n",
    "        if member_info.empty:\n",
    "            continue\n",
    "\n",
    "        try:\n",
    "            tweets_df = pd.read_csv(filepath)\n",
    "        except pd.errors.EmptyDataError:\n",
    "            continue\n",
    "\n",
    "        if tweets_df.empty:\n",
    "            continue\n",
    "\n",
    "        member_info_repeated = pd.concat([member_info] * len(tweets_df), ignore_index=True)\n",
    "        merged_df = pd.concat([member_info_repeated.reset_index(drop=True),\n",
    "                               tweets_df.reset_index(drop=True)], axis=1)\n",
    "\n",
    "        all_dataframes.append(merged_df)"
   ]
  },
  {
   "cell_type": "markdown",
   "id": "fe65b0d3",
   "metadata": {},
   "source": [
    "Final dataset:"
   ]
  },
  {
   "cell_type": "code",
   "execution_count": 27,
   "id": "cfd41049",
   "metadata": {},
   "outputs": [
    {
     "data": {
      "text/html": [
       "<div>\n",
       "<style scoped>\n",
       "    .dataframe tbody tr th:only-of-type {\n",
       "        vertical-align: middle;\n",
       "    }\n",
       "\n",
       "    .dataframe tbody tr th {\n",
       "        vertical-align: top;\n",
       "    }\n",
       "\n",
       "    .dataframe thead th {\n",
       "        text-align: right;\n",
       "    }\n",
       "</style>\n",
       "<table border=\"1\" class=\"dataframe\">\n",
       "  <thead>\n",
       "    <tr style=\"text-align: right;\">\n",
       "      <th></th>\n",
       "      <th>Name</th>\n",
       "      <th>Role</th>\n",
       "      <th>State</th>\n",
       "      <th>District</th>\n",
       "      <th>Party</th>\n",
       "      <th>Served</th>\n",
       "      <th>Active On X</th>\n",
       "      <th>Account</th>\n",
       "      <th>tweet_id</th>\n",
       "      <th>text</th>\n",
       "      <th>...</th>\n",
       "      <th>favorite_count</th>\n",
       "      <th>retweet_count</th>\n",
       "      <th>reply_count</th>\n",
       "      <th>view_count</th>\n",
       "      <th>created_at</th>\n",
       "      <th>client</th>\n",
       "      <th>hashtags</th>\n",
       "      <th>urls</th>\n",
       "      <th>media_type</th>\n",
       "      <th>media_urls</th>\n",
       "    </tr>\n",
       "  </thead>\n",
       "  <tbody>\n",
       "    <tr>\n",
       "      <th>0</th>\n",
       "      <td>Ocasio-Cortez, Alexandria</td>\n",
       "      <td>Representative</td>\n",
       "      <td>New York</td>\n",
       "      <td>14</td>\n",
       "      <td>Democratic</td>\n",
       "      <td>House: 2019-Present</td>\n",
       "      <td>Yes</td>\n",
       "      <td>AOC</td>\n",
       "      <td>'1969522226455019889'</td>\n",
       "      <td>Why are you tweeting your private likes?</td>\n",
       "      <td>...</td>\n",
       "      <td>314392</td>\n",
       "      <td>12823</td>\n",
       "      <td>6714</td>\n",
       "      <td>11858695.0</td>\n",
       "      <td>2025-09-20 23:01:05</td>\n",
       "      <td>&lt;a href=\"http://twitter.com/download/iphone\" r...</td>\n",
       "      <td>NaN</td>\n",
       "      <td>NaN</td>\n",
       "      <td>NaN</td>\n",
       "      <td>NaN</td>\n",
       "    </tr>\n",
       "    <tr>\n",
       "      <th>1</th>\n",
       "      <td>Ocasio-Cortez, Alexandria</td>\n",
       "      <td>Representative</td>\n",
       "      <td>New York</td>\n",
       "      <td>14</td>\n",
       "      <td>Democratic</td>\n",
       "      <td>House: 2019-Present</td>\n",
       "      <td>Yes</td>\n",
       "      <td>AOC</td>\n",
       "      <td>'1969507666415280631'</td>\n",
       "      <td>Let’s go @RepYvetteClarke! \\n\\n💙 UNITY. 💙</td>\n",
       "      <td>...</td>\n",
       "      <td>3945</td>\n",
       "      <td>326</td>\n",
       "      <td>1046</td>\n",
       "      <td>498925.0</td>\n",
       "      <td>2025-09-20 22:03:14</td>\n",
       "      <td>&lt;a href=\"http://twitter.com/download/iphone\" r...</td>\n",
       "      <td>NaN</td>\n",
       "      <td>NaN</td>\n",
       "      <td>NaN</td>\n",
       "      <td>NaN</td>\n",
       "    </tr>\n",
       "    <tr>\n",
       "      <th>2</th>\n",
       "      <td>Ocasio-Cortez, Alexandria</td>\n",
       "      <td>Representative</td>\n",
       "      <td>New York</td>\n",
       "      <td>14</td>\n",
       "      <td>Democratic</td>\n",
       "      <td>House: 2019-Present</td>\n",
       "      <td>Yes</td>\n",
       "      <td>AOC</td>\n",
       "      <td>'1969505961732612540'</td>\n",
       "      <td>Who’s the illegal now @RealTomHoman</td>\n",
       "      <td>...</td>\n",
       "      <td>66362</td>\n",
       "      <td>10943</td>\n",
       "      <td>4482</td>\n",
       "      <td>3060799.0</td>\n",
       "      <td>2025-09-20 21:56:27</td>\n",
       "      <td>&lt;a href=\"http://twitter.com/download/iphone\" r...</td>\n",
       "      <td>NaN</td>\n",
       "      <td>NaN</td>\n",
       "      <td>NaN</td>\n",
       "      <td>NaN</td>\n",
       "    </tr>\n",
       "    <tr>\n",
       "      <th>3</th>\n",
       "      <td>Ocasio-Cortez, Alexandria</td>\n",
       "      <td>Representative</td>\n",
       "      <td>New York</td>\n",
       "      <td>14</td>\n",
       "      <td>Democratic</td>\n",
       "      <td>House: 2019-Present</td>\n",
       "      <td>Yes</td>\n",
       "      <td>AOC</td>\n",
       "      <td>'1969074559602110509'</td>\n",
       "      <td>We should be clear about who Charlie Kirk was:...</td>\n",
       "      <td>...</td>\n",
       "      <td>131677</td>\n",
       "      <td>18649</td>\n",
       "      <td>37381</td>\n",
       "      <td>18841404.0</td>\n",
       "      <td>2025-09-19 17:22:13</td>\n",
       "      <td>&lt;a href=\"http://twitter.com/download/iphone\" r...</td>\n",
       "      <td>NaN</td>\n",
       "      <td>NaN</td>\n",
       "      <td>NaN</td>\n",
       "      <td>NaN</td>\n",
       "    </tr>\n",
       "    <tr>\n",
       "      <th>4</th>\n",
       "      <td>Ocasio-Cortez, Alexandria</td>\n",
       "      <td>Representative</td>\n",
       "      <td>New York</td>\n",
       "      <td>14</td>\n",
       "      <td>Democratic</td>\n",
       "      <td>House: 2019-Present</td>\n",
       "      <td>Yes</td>\n",
       "      <td>AOC</td>\n",
       "      <td>'1965876680553279580'</td>\n",
       "      <td>The scourge of gun violence and political viol...</td>\n",
       "      <td>...</td>\n",
       "      <td>72656</td>\n",
       "      <td>4338</td>\n",
       "      <td>34962</td>\n",
       "      <td>9975357.0</td>\n",
       "      <td>2025-09-10 21:34:59</td>\n",
       "      <td>&lt;a href=\"http://twitter.com/download/iphone\" r...</td>\n",
       "      <td>NaN</td>\n",
       "      <td>NaN</td>\n",
       "      <td>NaN</td>\n",
       "      <td>NaN</td>\n",
       "    </tr>\n",
       "  </tbody>\n",
       "</table>\n",
       "<p>5 rows × 23 columns</p>\n",
       "</div>"
      ],
      "text/plain": [
       "                        Name            Role     State District       Party  \\\n",
       "0  Ocasio-Cortez, Alexandria  Representative  New York       14  Democratic   \n",
       "1  Ocasio-Cortez, Alexandria  Representative  New York       14  Democratic   \n",
       "2  Ocasio-Cortez, Alexandria  Representative  New York       14  Democratic   \n",
       "3  Ocasio-Cortez, Alexandria  Representative  New York       14  Democratic   \n",
       "4  Ocasio-Cortez, Alexandria  Representative  New York       14  Democratic   \n",
       "\n",
       "                Served Active On X Account               tweet_id  \\\n",
       "0  House: 2019-Present         Yes     AOC  '1969522226455019889'   \n",
       "1  House: 2019-Present         Yes     AOC  '1969507666415280631'   \n",
       "2  House: 2019-Present         Yes     AOC  '1969505961732612540'   \n",
       "3  House: 2019-Present         Yes     AOC  '1969074559602110509'   \n",
       "4  House: 2019-Present         Yes     AOC  '1965876680553279580'   \n",
       "\n",
       "                                                text  ... favorite_count  \\\n",
       "0           Why are you tweeting your private likes?  ...         314392   \n",
       "1          Let’s go @RepYvetteClarke! \\n\\n💙 UNITY. 💙  ...           3945   \n",
       "2                Who’s the illegal now @RealTomHoman  ...          66362   \n",
       "3  We should be clear about who Charlie Kirk was:...  ...         131677   \n",
       "4  The scourge of gun violence and political viol...  ...          72656   \n",
       "\n",
       "  retweet_count  reply_count  view_count           created_at  \\\n",
       "0         12823         6714  11858695.0  2025-09-20 23:01:05   \n",
       "1           326         1046    498925.0  2025-09-20 22:03:14   \n",
       "2         10943         4482   3060799.0  2025-09-20 21:56:27   \n",
       "3         18649        37381  18841404.0  2025-09-19 17:22:13   \n",
       "4          4338        34962   9975357.0  2025-09-10 21:34:59   \n",
       "\n",
       "                                              client  hashtags urls  \\\n",
       "0  <a href=\"http://twitter.com/download/iphone\" r...       NaN  NaN   \n",
       "1  <a href=\"http://twitter.com/download/iphone\" r...       NaN  NaN   \n",
       "2  <a href=\"http://twitter.com/download/iphone\" r...       NaN  NaN   \n",
       "3  <a href=\"http://twitter.com/download/iphone\" r...       NaN  NaN   \n",
       "4  <a href=\"http://twitter.com/download/iphone\" r...       NaN  NaN   \n",
       "\n",
       "  media_type media_urls  \n",
       "0        NaN        NaN  \n",
       "1        NaN        NaN  \n",
       "2        NaN        NaN  \n",
       "3        NaN        NaN  \n",
       "4        NaN        NaN  \n",
       "\n",
       "[5 rows x 23 columns]"
      ]
     },
     "execution_count": 27,
     "metadata": {},
     "output_type": "execute_result"
    }
   ],
   "source": [
    "df = pd.concat(all_dataframes, ignore_index=True)\n",
    "df.head(5)"
   ]
  },
  {
   "cell_type": "markdown",
   "id": "d4fdd7b3",
   "metadata": {},
   "source": [
    "Info about the dataset:"
   ]
  },
  {
   "cell_type": "code",
   "execution_count": 28,
   "id": "6c13fad2",
   "metadata": {},
   "outputs": [
    {
     "name": "stdout",
     "output_type": "stream",
     "text": [
      "Number of rows: 359146\n",
      "Number of collumns: 23\n",
      "Collumns: Index(['Name', 'Role', 'State', 'District', 'Party', 'Served', 'Active On X',\n",
      "       'Account', 'tweet_id', 'text', 'language', 'type', 'bookmark_count',\n",
      "       'favorite_count', 'retweet_count', 'reply_count', 'view_count',\n",
      "       'created_at', 'client', 'hashtags', 'urls', 'media_type', 'media_urls'],\n",
      "      dtype='object')\n",
      "Number of missing values per collumn:\n",
      "Name                   0\n",
      "Role                   0\n",
      "State                  0\n",
      "District           85330\n",
      "Party                  0\n",
      "Served                 0\n",
      "Active On X            0\n",
      "Account                0\n",
      "tweet_id               0\n",
      "text                   1\n",
      "language               0\n",
      "type                   0\n",
      "bookmark_count         0\n",
      "favorite_count         0\n",
      "retweet_count          0\n",
      "reply_count            0\n",
      "view_count            10\n",
      "created_at             0\n",
      "client                 0\n",
      "hashtags          335561\n",
      "urls              303680\n",
      "media_type        190859\n",
      "media_urls        190859\n",
      "dtype: int64\n"
     ]
    }
   ],
   "source": [
    "num_rows, num_col = df.shape\n",
    "print(f\"Number of rows: {num_rows}\")\n",
    "print(f\"Number of collumns: {num_col}\")\n",
    "print(f\"Collumns: {df.columns}\")\n",
    "print(\"Number of missing values per collumn:\")\n",
    "print(df.isna().sum())"
   ]
  },
  {
   "cell_type": "markdown",
   "id": "d9164c51",
   "metadata": {},
   "source": [
    "Collumn \"Active On X is no needed anymore since all members in df are active and de starting day will be 26/09/2024 so we have 52 full 7 day weeks"
   ]
  },
  {
   "cell_type": "code",
   "execution_count": 29,
   "id": "fce4dd7e",
   "metadata": {},
   "outputs": [],
   "source": [
    "df = df.drop(columns=[\"Active On X\"])\n",
    "df['created_at'] = pd.to_datetime(df['created_at'])\n",
    "df = df[df['created_at'].dt.date != pd.to_datetime('2024-09-25').date()]"
   ]
  },
  {
   "cell_type": "markdown",
   "id": "7257f591",
   "metadata": {},
   "source": [
    "Saving the dataset:"
   ]
  },
  {
   "cell_type": "code",
   "execution_count": 31,
   "id": "2116b4d4",
   "metadata": {},
   "outputs": [],
   "source": [
    "df.to_csv(\"datasets/tweets.csv\", index=False)"
   ]
  },
  {
   "cell_type": "markdown",
   "id": "8f336ded",
   "metadata": {},
   "source": [
    "How many tweets per day?"
   ]
  },
  {
   "cell_type": "code",
   "execution_count": 35,
   "id": "51ab28b0",
   "metadata": {},
   "outputs": [
    {
     "data": {
      "image/png": "[encoded data removed]",
      "text/plain": [
       "<Figure size 1200x600 with 1 Axes>"
      ]
     },
     "metadata": {},
     "output_type": "display_data"
    }
   ],
   "source": [
    "df['week'] = df['created_at'].dt.to_period('W-WED').apply(lambda r: r.end_time.date())\n",
    "tweetsperweek = df.groupby('week').size()\n",
    "\n",
    "plt.figure(figsize=(12,6))\n",
    "tweetsperweek.plot(kind='bar', color='skyblue')\n",
    "plt.xlabel('Week (Thursday to Wednesday)')\n",
    "plt.ylabel('Number of Tweets')\n",
    "plt.title('Tweet Count per Week (Thursday to Wednesday)')\n",
    "plt.xticks(rotation=45)\n",
    "plt.tight_layout()\n",
    "plt.show()"
   ]
  }
 ],
 "metadata": {
  "kernelspec": {
   "display_name": ".venv (3.11.9)",
   "language": "python",
   "name": "python3"
  },
  "language_info": {
   "codemirror_mode": {
    "name": "ipython",
    "version": 3
   },
   "file_extension": ".py",
   "mimetype": "text/x-python",
   "name": "python",
   "nbconvert_exporter": "python",
   "pygments_lexer": "ipython3",
   "version": "3.11.9"
  }
 },
 "nbformat": 4,
 "nbformat_minor": 5
}
