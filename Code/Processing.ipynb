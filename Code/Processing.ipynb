{
 "cells": [
  {
   "cell_type": "markdown",
   "id": "54ab993a",
   "metadata": {},
   "source": [
    "# Detecting Topic Merges and Splits in Dynamic Political Conversations\n",
    "\n",
    "Cláudia Oliveira \n",
    "\n",
    "Supervisor - Prof. Dr. Álvaro Figueira\n",
    "\n",
    "Faculty of Science, University of Porto"
   ]
  },
  {
   "cell_type": "markdown",
   "id": "1865f570",
   "metadata": {},
   "source": [
    "Import packages"
   ]
  },
  {
   "cell_type": "code",
   "execution_count": null,
   "id": "32969bca",
   "metadata": {},
   "outputs": [],
   "source": [
    "import pandas as pd\n",
    "import re\n",
    "import string\n",
    "import emoji\n",
    "import spacy\n",
    "#nltk.download('stopwords')\n",
    "from nltk.corpus import stopwords\n",
    "import nltk\n",
    "import sys\n",
    "from functions import *\n",
    "from collections import Counter\n",
    "nlp_ner = spacy.load(\"en_core_web_sm\")\n",
    "stop_words = set(stopwords.words('english'))\n",
    "from multiprocessing import Pool, cpu_count"
   ]
  },
  {
   "cell_type": "markdown",
   "id": "8b1155c4",
   "metadata": {},
   "source": [
    "Removing the tweets that aren't in english and concatenate the text from the tweet with the hashtags and urls "
   ]
  },
  {
   "cell_type": "code",
   "execution_count": 2,
   "id": "f594b84e",
   "metadata": {},
   "outputs": [],
   "source": [
    "tweets = pd.read_csv(\"datasets/tweets.csv\", encoding=\"utf-8\", low_memory=False)\n",
    "\n",
    "tweets = tweets[tweets['language'] == 'en'].copy()\n",
    "\n",
    "tweets['text_combined'] = parallel_apply(tweets, clean_tweet_row)"
   ]
  },
  {
   "cell_type": "markdown",
   "id": "cafb2530",
   "metadata": {},
   "source": [
    "Eliminate empty lanes"
   ]
  },
  {
   "cell_type": "code",
   "execution_count": 12,
   "id": "faca467c",
   "metadata": {},
   "outputs": [],
   "source": [
    "tweets = tweets[tweets['text_combined'].str.strip() != \"\"].copy()"
   ]
  },
  {
   "cell_type": "markdown",
   "id": "c7df64f1",
   "metadata": {},
   "source": [
    "Check which are the most common used entities so we can try to normalize them "
   ]
  },
  {
   "cell_type": "code",
   "execution_count": null,
   "id": "8c41cc86",
   "metadata": {},
   "outputs": [],
   "source": [
    "all_entities = []\n",
    "\n",
    "for doc in nlp_ner.pipe(tweets['text_combined'], batch_size=500, n_process=4):\n",
    "    for ent in doc.ents:\n",
    "        if ent.label_ in [\"PERSON\", \"ORG\"]:\n",
    "            all_entities.append(ent.text)\n",
    "\n",
    "entity_counts = Counter(all_entities)\n",
    "top_entities = entity_counts.most_common(50)\n",
    "\n",
    "for ent, count in top_entities:\n",
    "    print(f\"{ent}: {count}\")"
   ]
  },
  {
   "cell_type": "markdown",
   "id": "a8141e96",
   "metadata": {},
   "source": [
    "RUN THE PACKAGES BEFORE THIS ONE"
   ]
  },
  {
   "cell_type": "code",
   "execution_count": null,
   "id": "d752e0bc",
   "metadata": {},
   "outputs": [],
   "source": [
    "entity_dict = {\n",
    "    \"trump\": \"Donald Trump\",\n",
    "    \"donald trump\": \"Donald Trump\",\n",
    "    \"biden\": \"Joe Biden\",\n",
    "    \"joe biden\": \"Joe Biden\",\n",
    "    \"pelosi\": \"Nancy Pelosi\",\n",
    "    \"nancy pelosi\": \"Nancy Pelosi\",\n",
    "}\n",
    "\n",
    "tweets['text_normalized'] = tweets['text_combined'].apply(\n",
    "    lambda x: normalize_entities_advanced(x, entity_dict, list(entity_dict.keys()))\n",
    ")"
   ]
  }
 ],
 "metadata": {
  "kernelspec": {
   "display_name": ".venv (3.11.9)",
   "language": "python",
   "name": "python3"
  },
  "language_info": {
   "codemirror_mode": {
    "name": "ipython",
    "version": 3
   },
   "file_extension": ".py",
   "mimetype": "text/x-python",
   "name": "python",
   "nbconvert_exporter": "python",
   "pygments_lexer": "ipython3",
   "version": "3.9.0"
  }
 },
 "nbformat": 4,
 "nbformat_minor": 5
}
